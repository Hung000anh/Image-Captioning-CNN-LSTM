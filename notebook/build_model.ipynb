{
 "cells": [
  {
   "cell_type": "markdown",
   "id": "1384ae52",
   "metadata": {},
   "source": [
    "Thi xong mới đẩy lên hen"
   ]
  }
 ],
 "metadata": {
  "language_info": {
   "name": "python"
  }
 },
 "nbformat": 4,
 "nbformat_minor": 5
}
